{
  "nbformat": 4,
  "nbformat_minor": 0,
  "metadata": {
    "colab": {
      "name": "Untitled15.ipynb",
      "provenance": [],
      "private_outputs": true,
      "collapsed_sections": [],
      "include_colab_link": true
    },
    "kernelspec": {
      "name": "python3",
      "display_name": "Python 3"
    }
  },
  "cells": [
    {
      "cell_type": "markdown",
      "metadata": {
        "id": "view-in-github",
        "colab_type": "text"
      },
      "source": [
        "<a href=\"https://colab.research.google.com/github/arohanajit/hacked-or-not/blob/master/Untitled16.ipynb\" target=\"_parent\"><img src=\"https://colab.research.google.com/assets/colab-badge.svg\" alt=\"Open In Colab\"/></a>"
      ]
    },
    {
      "cell_type": "code",
      "metadata": {
        "id": "F1-Awcc-nGT1",
        "colab_type": "code",
        "colab": {}
      },
      "source": [
        "!wget https://raw.githubusercontent.com/arohanajit/novartis-ds-challenge/master/Train.csv"
      ],
      "execution_count": 0,
      "outputs": []
    },
    {
      "cell_type": "code",
      "metadata": {
        "id": "BKjWXgaPnKVP",
        "colab_type": "code",
        "colab": {}
      },
      "source": [
        "import numpy as np\n",
        "import pandas as pd\n",
        "from sklearn.model_selection import train_test_split\n",
        "from sklearn.preprocessing import MinMaxScaler\n",
        "from sklearn.metrics import confusion_matrix\n",
        "from sklearn.neighbors import KNeighborsClassifier\n",
        "import torch\n",
        "import torch.nn as nn\n",
        "import torch.nn.functional as F\n",
        "from torch import optim\n",
        "from sklearn.metrics import accuracy_score\n",
        "from torch.utils.data import DataLoader, TensorDataset, random_split\n",
        "from tqdm import tqdm_notebook\n",
        "import matplotlib.pyplot as plt\n",
        "import seaborn as sns\n"
      ],
      "execution_count": 0,
      "outputs": []
    },
    {
      "cell_type": "code",
      "metadata": {
        "id": "uXyE_NHJag-V",
        "colab_type": "code",
        "colab": {}
      },
      "source": [
        "def offense_analysis(df2,target):\n",
        "    week_dict = {}\n",
        "    month_dict = {}\n",
        "    year_dict = {'1991-1995':0,'1996-2000':0,'2001-2005':0,'2006-2010':0,\n",
        "    '2011-2015':0,'2016-2020':0}\n",
        "    lst1 = df2['WEEK'].unique()\n",
        "    lst2 = df2['MONTH'].unique()\n",
        "    lst3 = df2['YEAR'].unique()\n",
        "    for i in range(4):\n",
        "        week_dict[i] = 0\n",
        "    for i in range(12):\n",
        "        month_dict[i] = 0\n",
        "    for i in df2.index:\n",
        "        if target[i] == 1:\n",
        "            week_dict[df2['WEEK'].iloc[i]]+=1\n",
        "            month_dict[df2['MONTH'].iloc[i]]+=1\n",
        "            yr =  df2['YEAR'].iloc[i]\n",
        "            if yr<=1995:\n",
        "                year_dict['1991-1995']+=1\n",
        "            elif yr>=1996 and yr<=2000:\n",
        "                year_dict['1996-2000']+=1\n",
        "            elif yr>=2001 and yr<=2005:\n",
        "                year_dict['2001-2005']+=1\n",
        "            elif yr>=2006 and yr<=2010:\n",
        "                year_dict['2006-2010']+=1\n",
        "            elif yr>=2011 and yr<=2015:\n",
        "                year_dict['2011-2015']+=1\n",
        "            elif yr>=2016 and yr<=2020:\n",
        "                year_dict['2016-2020']+=1\n",
        "    sns.set(rc={'figure.figsize':(16.7,8.27)})\n",
        "    fig, axs = plt.subplots(ncols=3)\n",
        "    a = sns.barplot(x=list(week_dict.keys()),y=list(week_dict.values()),ax=axs[0])\n",
        "    a.set(xlabel=\"Week\", ylabel = \"No. of Crimes\")\n",
        "    b = sns.barplot(x=list(month_dict.keys()),y=list(month_dict.values()),ax=axs[1])\n",
        "    b.set(xlabel=\"Month\", ylabel = \"No. of Crimes\")\n",
        "    c = sns.barplot(x=list(year_dict.keys()),y=list(year_dict.values()),ax=axs[2])\n",
        "    c.set(xlabel=\"Year\", ylabel = \"No. of Crimes\")\n",
        "    c.set_xticklabels(c.get_xticklabels(),rotation=30)\n",
        "    plt.show()\n"
      ],
      "execution_count": 0,
      "outputs": []
    },
    {
      "cell_type": "code",
      "metadata": {
        "id": "PS-HYfjUzUzd",
        "colab_type": "code",
        "colab": {}
      },
      "source": [
        "def preprocessing(df,data_type='Train'):\n",
        "    df['X_12'].fillna(df['X_12'].mode()[0], inplace=True)\n",
        "    incident_id = df.iloc[:,0]\n",
        "    ids = df.columns[0]\n",
        "    df = df.drop(columns = ids)\n",
        "    months_list = ['JAN','FEB','MAR','APR','MAY','JUN','JUL','AUG','SEP','OCT','NOV','DEC']\n",
        "    week,month,year_list = [],[],[]\n",
        "    for i in df.index:\n",
        "        date = int(df['DATE'].iloc[i][:2])\n",
        "        month.append(months_list.index(df['DATE'].iloc[i][3:6]))\n",
        "        year = df['DATE'].iloc[i][7:9]\n",
        "        if int(year) <= 20:\n",
        "            year_list.append(int('20'+year))\n",
        "        else:\n",
        "            year_list.append(int('19'+year))\n",
        "        if date<=7:\n",
        "            week.append(0)\n",
        "        elif date>7 and date<=14:\n",
        "            week.append(1)\n",
        "        elif date>14 and date<=21:\n",
        "            week.append(2)\n",
        "        else:\n",
        "            week.append(3)\n",
        "    print(len(week),len(month),len(year_list))\n",
        "    df.insert(0,'WEEK',week)\n",
        "    df.insert(1,'MONTH',month)\n",
        "    df.insert(2,'YEAR',year_list)\n",
        "    df = df.drop(columns='DATE')\n",
        "    offense_analysis(df,list(df['MULTIPLE_OFFENSE']))\n",
        "    df = pd.get_dummies(df,columns=['WEEK','MONTH'])\n",
        "    return df"
      ],
      "execution_count": 0,
      "outputs": []
    },
    {
      "cell_type": "code",
      "metadata": {
        "id": "x29cOfpenX3C",
        "colab_type": "code",
        "colab": {}
      },
      "source": [
        "df = pd.read_csv('Train.csv')\n",
        "print(df.shape)\n",
        "df = preprocessing(df)\n",
        "class_values = [df.loc[df['MULTIPLE_OFFENSE'] == 0].shape[0],df.loc[df['MULTIPLE_OFFENSE'] == 1].shape[0]]\n",
        "sns.barplot(x=[0,1],y=class_values)\n",
        "print(class_values)\n",
        "df.head()"
      ],
      "execution_count": 0,
      "outputs": []
    },
    {
      "cell_type": "code",
      "metadata": {
        "id": "iVSKfDUF_yst",
        "colab_type": "code",
        "colab": {}
      },
      "source": [
        "neg_df = df.loc[df['MULTIPLE_OFFENSE'] == 0]\n",
        "pos_df = df.loc[df['MULTIPLE_OFFENSE'] == 1].sample(n=1068,random_state=2)\n",
        "print(neg_df.shape,pos_df.shape)\n",
        "normalized_df = pd.concat([neg_df, pos_df]).sample(frac=1).reset_index(drop=True)\n",
        "Y = normalized_df['MULTIPLE_OFFENSE']\n",
        "X = normalized_df.drop(columns=['MULTIPLE_OFFENSE'])\n",
        "X.head()"
      ],
      "execution_count": 0,
      "outputs": []
    },
    {
      "cell_type": "code",
      "metadata": {
        "id": "1ILV2dF9qrRK",
        "colab_type": "code",
        "colab": {}
      },
      "source": [
        "x_train,x_test,y_train,y_test = train_test_split(X,Y,test_size=0.25,random_state=2)\n",
        "print(x_train.shape,x_test.shape,y_train.shape,y_test.shape)"
      ],
      "execution_count": 0,
      "outputs": []
    },
    {
      "cell_type": "code",
      "metadata": {
        "id": "wlNUMh95yvtA",
        "colab_type": "code",
        "colab": {}
      },
      "source": [
        "scaler = MinMaxScaler()\n",
        "x_train = scaler.fit_transform(x_train)\n",
        "x_test = scaler.transform(x_test)"
      ],
      "execution_count": 0,
      "outputs": []
    },
    {
      "cell_type": "code",
      "metadata": {
        "id": "AbzttZcDxC6C",
        "colab_type": "code",
        "colab": {}
      },
      "source": [
        "x_train = torch.tensor(x_train).float()\n",
        "x_test = torch.tensor(x_test).float()\n",
        "y_train = torch.tensor(y_train.values).float()\n",
        "y_test = torch.tensor(y_test.values).float()\n",
        "print(x_train.shape,x_test.shape,y_train.shape,y_test.shape)"
      ],
      "execution_count": 0,
      "outputs": []
    },
    {
      "cell_type": "code",
      "metadata": {
        "id": "sF35vXOTxGQN",
        "colab_type": "code",
        "colab": {}
      },
      "source": [
        "train_data = TensorDataset(x_train,y_train)\n",
        "test_data = TensorDataset(x_test,y_test)\n",
        "train_loader = DataLoader(train_data, batch_size=32, shuffle=True)\n",
        "test_loader = DataLoader(test_data, batch_size=32)"
      ],
      "execution_count": 0,
      "outputs": []
    },
    {
      "cell_type": "code",
      "metadata": {
        "id": "MYXlk-lLyngv",
        "colab_type": "code",
        "colab": {}
      },
      "source": [
        "data_iter = iter(train_loader)\n",
        "inputs,labels = next(data_iter)\n",
        "print(inputs[0],labels[0])"
      ],
      "execution_count": 0,
      "outputs": []
    },
    {
      "cell_type": "code",
      "metadata": {
        "id": "lQiKJDDmy5hP",
        "colab_type": "code",
        "colab": {}
      },
      "source": [
        "class Model(nn.Module):\n",
        "    def __init__(self):\n",
        "        super(Model, self).__init__()\n",
        "        self.hc1 = nn.Linear(x_train.shape[1], 128)\n",
        "        self.hc2 = nn.Linear(128, 128)\n",
        "        self.hc3 = nn.Linear(128, 64)\n",
        "        self.oc = nn.Linear(64, 1)\n",
        "        self.dropout = nn.Dropout(p=0.1)\n",
        "\n",
        "    def forward(self, x):\n",
        "        x = F.relu(self.hc1(x))\n",
        "        x = self.dropout(x)\n",
        "        x = F.relu(self.hc2(x))\n",
        "        x = self.dropout(x)\n",
        "        x = F.relu(self.hc3(x))\n",
        "        x = self.dropout(x)\n",
        "        x = torch.sigmoid(self.oc(x))\n",
        "        return x"
      ],
      "execution_count": 0,
      "outputs": []
    },
    {
      "cell_type": "code",
      "metadata": {
        "id": "oozJsDwF1ICo",
        "colab_type": "code",
        "colab": {}
      },
      "source": [
        "net = Model()\n",
        "criterion = nn.BCELoss()\n",
        "optimizer = optim.Adam(net.parameters())\n",
        "net"
      ],
      "execution_count": 0,
      "outputs": []
    },
    {
      "cell_type": "code",
      "metadata": {
        "id": "dSBFJQkT1KLF",
        "colab_type": "code",
        "colab": {}
      },
      "source": [
        "def Graphing(loss):\n",
        "    plt.plot(loss)\n",
        "    plt.show()"
      ],
      "execution_count": 0,
      "outputs": []
    },
    {
      "cell_type": "code",
      "metadata": {
        "id": "Y0dSoC6W1MH1",
        "colab_type": "code",
        "colab": {}
      },
      "source": [
        "def eval(model,dataloader):\n",
        "    model.load_state_dict(torch.load('checkpt.pt'))\n",
        "    model.eval()\n",
        "    total_accuracy = 0\n",
        "    total = 0\n",
        "    for inputs,labels in dataloader:\n",
        "        total+=1\n",
        "        out = net(inputs)\n",
        "        out_labels = torch.FloatTensor([1 if i>0.5 else 0 for i in out])\n",
        "        total_accuracy+=accuracy_score(labels,out_labels)\n",
        "    return total_accuracy/total"
      ],
      "execution_count": 0,
      "outputs": []
    },
    {
      "cell_type": "code",
      "metadata": {
        "id": "PvS_x1WZ1PIZ",
        "colab_type": "code",
        "colab": {}
      },
      "source": [
        "num_epochs = 100\n",
        "loss = []\n",
        "min_loss = 999\n",
        "print_every = 10\n",
        "for epoch in tqdm_notebook(range(num_epochs)):\n",
        "    for data in train_loader:\n",
        "        net.train()\n",
        "        inputs,labels = data\n",
        "        optimizer.zero_grad()\n",
        "        output = torch.flatten(net(inputs),start_dim=0)\n",
        "        l = criterion(output,labels)\n",
        "        l.backward()\n",
        "        optimizer.step()\n",
        "    loss.append(l.item())\n",
        "    if l.item() < min_loss:\n",
        "        min_loss = l.item()\n",
        "        print('New minimum detected. Saving parameters...')\n",
        "        torch.save(net.state_dict(), 'checkpt.pt')\n",
        "    if (epoch+1)%10 == 0:\n",
        "        print(\"Epoch: {} Train Accuracy: {} Validation Accuracy: {}\".format(epoch,eval(net,train_loader),eval(net,test_loader)))\n",
        "Graphing(loss)\n",
        "eval(net,test_loader)"
      ],
      "execution_count": 0,
      "outputs": []
    },
    {
      "cell_type": "code",
      "metadata": {
        "id": "Zx2hx0OPRKC4",
        "colab_type": "code",
        "colab": {}
      },
      "source": [
        "def predict(data):\n",
        "    data = np.asarray(data)\n",
        "    print(data.shape)\n",
        "    data = torch.tensor(data).float()\n",
        "    out = torch.flatten(net(data),start_dim=0)\n",
        "    out_labels = torch.FloatTensor([1 if i>0.5 else 0 for i in out])\n",
        "    print(out.shape)\n",
        "    return out_labels"
      ],
      "execution_count": 0,
      "outputs": []
    },
    {
      "cell_type": "code",
      "metadata": {
        "id": "7HSuSvF2Qowp",
        "colab_type": "code",
        "colab": {}
      },
      "source": [
        "from sklearn.metrics import recall_score\n",
        "a = predict(x_test).detach().numpy()\n",
        "recall_score(np.asarray(y_test),x)"
      ],
      "execution_count": 0,
      "outputs": []
    },
    {
      "cell_type": "code",
      "metadata": {
        "id": "-BE1IgvhTMrz",
        "colab_type": "code",
        "colab": {}
      },
      "source": [
        "!wget https://raw.githubusercontent.com/arohanajit/novartis-ds-challenge/master/Test.csv"
      ],
      "execution_count": 0,
      "outputs": []
    },
    {
      "cell_type": "code",
      "metadata": {
        "id": "ZWypcyPmUZk3",
        "colab_type": "code",
        "colab": {}
      },
      "source": [
        "df = pd.read_csv('Test.csv')\n",
        "print(df.shape)\n",
        "ids = list(df['INCIDENT_ID'])\n",
        "df.head()"
      ],
      "execution_count": 0,
      "outputs": []
    },
    {
      "cell_type": "code",
      "metadata": {
        "id": "4souVJxPUezm",
        "colab_type": "code",
        "colab": {}
      },
      "source": [
        "X,Y = preprocessing(df,data_type='Test')\n",
        "a2 = list(predict(X).detach().numpy())"
      ],
      "execution_count": 0,
      "outputs": []
    },
    {
      "cell_type": "code",
      "metadata": {
        "id": "TO4pDt9RUf2g",
        "colab_type": "code",
        "colab": {}
      },
      "source": [
        "res = pd.DataFrame(list(zip(ids, a2)), \n",
        "               columns =['INCIDENT_ID', 'MULTIPLE_OFFENSE']) \n",
        "res.to_csv('submission.csv')"
      ],
      "execution_count": 0,
      "outputs": []
    }
  ]
}